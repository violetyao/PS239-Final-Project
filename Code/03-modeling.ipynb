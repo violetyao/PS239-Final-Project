{
 "cells": [
  {
   "cell_type": "markdown",
   "metadata": {},
   "source": []
  },
  {
   "cell_type": "code",
   "execution_count": 277,
   "metadata": {},
   "outputs": [],
   "source": [
    "import pandas as pd\n",
    "from sklearn.linear_model import LogisticRegression\n",
    "import numpy as np\n",
    "from sklearn.feature_extraction.text import CountVectorizer\n",
    "from sklearn.model_selection import train_test_split\n",
    "import seaborn as sns\n",
    "import matplotlib.pyplot as plt\n",
    "from collections import Counter\n",
    "\n",
    "import warnings\n",
    "warnings.filterwarnings('ignore')"
   ]
  },
  {
   "cell_type": "markdown",
   "metadata": {},
   "source": [
    "#### Load from data_cleaned.csv "
   ]
  },
  {
   "cell_type": "code",
   "execution_count": 477,
   "metadata": {},
   "outputs": [],
   "source": [
    "df = pd.read_csv(\"data_cleaned.csv\")\n",
    "df = df.drop(columns=[\"Unnamed: 0\"])\n",
    "df = df.drop(columns=\"Unnamed: 0.1\")"
   ]
  },
  {
   "cell_type": "markdown",
   "metadata": {},
   "source": [
    "convert string to list"
   ]
  },
  {
   "cell_type": "code",
   "execution_count": 478,
   "metadata": {},
   "outputs": [],
   "source": [
    "df[\"relevant_articles\"] = df[\"relevant_articles\"].apply(lambda x:eval(x))"
   ]
  },
  {
   "cell_type": "markdown",
   "metadata": {},
   "source": [
    "convert imprisonment length from month to year "
   ]
  },
  {
   "cell_type": "code",
   "execution_count": 479,
   "metadata": {},
   "outputs": [],
   "source": [
    "df[\"imprisonment_year\"] = df[\"imprisonment\"].apply(lambda x: int(round(x/12)))"
   ]
  },
  {
   "cell_type": "markdown",
   "metadata": {},
   "source": [
    "check df"
   ]
  },
  {
   "cell_type": "code",
   "execution_count": 480,
   "metadata": {
    "scrolled": true
   },
   "outputs": [
    {
     "data": {
      "text/html": [
       "<div>\n",
       "<style scoped>\n",
       "    .dataframe tbody tr th:only-of-type {\n",
       "        vertical-align: middle;\n",
       "    }\n",
       "\n",
       "    .dataframe tbody tr th {\n",
       "        vertical-align: top;\n",
       "    }\n",
       "\n",
       "    .dataframe thead th {\n",
       "        text-align: right;\n",
       "    }\n",
       "</style>\n",
       "<table border=\"1\" class=\"dataframe\">\n",
       "  <thead>\n",
       "    <tr style=\"text-align: right;\">\n",
       "      <th></th>\n",
       "      <th>accusation</th>\n",
       "      <th>defendants</th>\n",
       "      <th>fact</th>\n",
       "      <th>punish_of_money</th>\n",
       "      <th>relevant_articles</th>\n",
       "      <th>term_of_imprisonment</th>\n",
       "      <th>death_penalty</th>\n",
       "      <th>imprisonment</th>\n",
       "      <th>life_imprisonment</th>\n",
       "      <th>tokenized</th>\n",
       "      <th>cleaned_fact</th>\n",
       "      <th>fact_cleaned</th>\n",
       "      <th>imprisonment_year</th>\n",
       "    </tr>\n",
       "  </thead>\n",
       "  <tbody>\n",
       "    <tr>\n",
       "      <th>0</th>\n",
       "      <td>['受贿']</td>\n",
       "      <td>['杨1某']</td>\n",
       "      <td>安阳县人民检察院指控：2009年至2012年，被告人杨1某利用其在洛阳市中级人民法院工作，先...</td>\n",
       "      <td>0</td>\n",
       "      <td>[383, 388, 383, 386]</td>\n",
       "      <td>{'death_penalty': False, 'imprisonment': 126, ...</td>\n",
       "      <td>False</td>\n",
       "      <td>126</td>\n",
       "      <td>False</td>\n",
       "      <td>['安阳县', '人民检察院', '指控', '：', '2009', '年', '至', ...</td>\n",
       "      <td>['安阳县', '人民检察院', '指控', '年', '年', '被告人', '杨', '...</td>\n",
       "      <td>['安阳县', '人民检察院', '指控', '：', '2009', '年', '至', ...</td>\n",
       "      <td>10</td>\n",
       "    </tr>\n",
       "    <tr>\n",
       "      <th>1</th>\n",
       "      <td>['[组织、强迫、引诱、容留、介绍]卖淫', '[引诱、容留、介绍]卖淫']</td>\n",
       "      <td>['马某某']</td>\n",
       "      <td>大同市新荣区人民检察院指控：从2013年4月起，被告人马某某在新荣区新荣村村委会南自租的平房...</td>\n",
       "      <td>0</td>\n",
       "      <td>[359]</td>\n",
       "      <td>{'death_penalty': False, 'imprisonment': 7, 'l...</td>\n",
       "      <td>False</td>\n",
       "      <td>7</td>\n",
       "      <td>False</td>\n",
       "      <td>['大同市', '新荣区', '人民检察院', '指控', '：', '从', '2013'...</td>\n",
       "      <td>['大同市', '新荣区', '人民检察院', '指控', '年', '月', '被告人',...</td>\n",
       "      <td>['大同市', '新荣区', '人民检察院', '指控', '：', '从', '2013'...</td>\n",
       "      <td>1</td>\n",
       "    </tr>\n",
       "    <tr>\n",
       "      <th>2</th>\n",
       "      <td>['非法[持有、私藏][枪支、弹药]', '[走私、贩卖、运输、制造]毒品']</td>\n",
       "      <td>['王某']</td>\n",
       "      <td>公诉机关指控，自2010年开始，被告人王某从“傻波”（在逃，另案处理）处购买甲基苯丙胺（冰毒...</td>\n",
       "      <td>3000</td>\n",
       "      <td>[347]</td>\n",
       "      <td>{'death_penalty': False, 'imprisonment': 10, '...</td>\n",
       "      <td>False</td>\n",
       "      <td>10</td>\n",
       "      <td>False</td>\n",
       "      <td>['公诉', '机关', '指控', '，', '自', '2010', '年', '开始'...</td>\n",
       "      <td>['公诉', '机关', '指控', '年', '被告人', '王某', '傻波', '逃'...</td>\n",
       "      <td>['公诉', '机关', '指控', '，', '自', '2010', '年', '开始'...</td>\n",
       "      <td>1</td>\n",
       "    </tr>\n",
       "    <tr>\n",
       "      <th>3</th>\n",
       "      <td>['[走私、贩卖、运输、制造]毒品', '容留他人吸毒']</td>\n",
       "      <td>['李1某']</td>\n",
       "      <td>晋中市榆次区人民检察院指控：一、2016年2月11日，被告人李1某在晋中东高速口附近贩卖给申...</td>\n",
       "      <td>12000</td>\n",
       "      <td>[347, 347, 354]</td>\n",
       "      <td>{'death_penalty': False, 'imprisonment': 102, ...</td>\n",
       "      <td>False</td>\n",
       "      <td>102</td>\n",
       "      <td>False</td>\n",
       "      <td>['晋中市', '榆次区', '人民检察院', '指控', '：', '一', '、', '...</td>\n",
       "      <td>['晋中市', '榆次区', '人民检察院', '指控', '年', '月', '日', '...</td>\n",
       "      <td>['晋中市', '榆次区', '人民检察院', '指控', '：', '一', '、', '...</td>\n",
       "      <td>8</td>\n",
       "    </tr>\n",
       "    <tr>\n",
       "      <th>4</th>\n",
       "      <td>['非法经营']</td>\n",
       "      <td>['彭某']</td>\n",
       "      <td>广西壮族自治区田东县人民检察院指控，2012年10月22日，被告人彭某为获利，在明知运输的物...</td>\n",
       "      <td>30000</td>\n",
       "      <td>[225]</td>\n",
       "      <td>{'death_penalty': False, 'imprisonment': 36, '...</td>\n",
       "      <td>False</td>\n",
       "      <td>36</td>\n",
       "      <td>False</td>\n",
       "      <td>['广西壮族自治区', '田东县', '人民检察院', '指控', '，', '2012',...</td>\n",
       "      <td>['广西壮族自治区', '田东县', '人民检察院', '指控', '年', '月', '日...</td>\n",
       "      <td>['广西壮族自治区', '田东县', '人民检察院', '指控', '，', '2012',...</td>\n",
       "      <td>3</td>\n",
       "    </tr>\n",
       "  </tbody>\n",
       "</table>\n",
       "</div>"
      ],
      "text/plain": [
       "                                accusation defendants  \\\n",
       "0                                   ['受贿']    ['杨1某']   \n",
       "1   ['[组织、强迫、引诱、容留、介绍]卖淫', '[引诱、容留、介绍]卖淫']    ['马某某']   \n",
       "2  ['非法[持有、私藏][枪支、弹药]', '[走私、贩卖、运输、制造]毒品']     ['王某']   \n",
       "3            ['[走私、贩卖、运输、制造]毒品', '容留他人吸毒']    ['李1某']   \n",
       "4                                 ['非法经营']     ['彭某']   \n",
       "\n",
       "                                                fact  punish_of_money  \\\n",
       "0  安阳县人民检察院指控：2009年至2012年，被告人杨1某利用其在洛阳市中级人民法院工作，先...                0   \n",
       "1  大同市新荣区人民检察院指控：从2013年4月起，被告人马某某在新荣区新荣村村委会南自租的平房...                0   \n",
       "2  公诉机关指控，自2010年开始，被告人王某从“傻波”（在逃，另案处理）处购买甲基苯丙胺（冰毒...             3000   \n",
       "3  晋中市榆次区人民检察院指控：一、2016年2月11日，被告人李1某在晋中东高速口附近贩卖给申...            12000   \n",
       "4  广西壮族自治区田东县人民检察院指控，2012年10月22日，被告人彭某为获利，在明知运输的物...            30000   \n",
       "\n",
       "      relevant_articles                               term_of_imprisonment  \\\n",
       "0  [383, 388, 383, 386]  {'death_penalty': False, 'imprisonment': 126, ...   \n",
       "1                 [359]  {'death_penalty': False, 'imprisonment': 7, 'l...   \n",
       "2                 [347]  {'death_penalty': False, 'imprisonment': 10, '...   \n",
       "3       [347, 347, 354]  {'death_penalty': False, 'imprisonment': 102, ...   \n",
       "4                 [225]  {'death_penalty': False, 'imprisonment': 36, '...   \n",
       "\n",
       "   death_penalty  imprisonment  life_imprisonment  \\\n",
       "0          False           126              False   \n",
       "1          False             7              False   \n",
       "2          False            10              False   \n",
       "3          False           102              False   \n",
       "4          False            36              False   \n",
       "\n",
       "                                           tokenized  \\\n",
       "0  ['安阳县', '人民检察院', '指控', '：', '2009', '年', '至', ...   \n",
       "1  ['大同市', '新荣区', '人民检察院', '指控', '：', '从', '2013'...   \n",
       "2  ['公诉', '机关', '指控', '，', '自', '2010', '年', '开始'...   \n",
       "3  ['晋中市', '榆次区', '人民检察院', '指控', '：', '一', '、', '...   \n",
       "4  ['广西壮族自治区', '田东县', '人民检察院', '指控', '，', '2012',...   \n",
       "\n",
       "                                        cleaned_fact  \\\n",
       "0  ['安阳县', '人民检察院', '指控', '年', '年', '被告人', '杨', '...   \n",
       "1  ['大同市', '新荣区', '人民检察院', '指控', '年', '月', '被告人',...   \n",
       "2  ['公诉', '机关', '指控', '年', '被告人', '王某', '傻波', '逃'...   \n",
       "3  ['晋中市', '榆次区', '人民检察院', '指控', '年', '月', '日', '...   \n",
       "4  ['广西壮族自治区', '田东县', '人民检察院', '指控', '年', '月', '日...   \n",
       "\n",
       "                                        fact_cleaned  imprisonment_year  \n",
       "0  ['安阳县', '人民检察院', '指控', '：', '2009', '年', '至', ...                 10  \n",
       "1  ['大同市', '新荣区', '人民检察院', '指控', '：', '从', '2013'...                  1  \n",
       "2  ['公诉', '机关', '指控', '，', '自', '2010', '年', '开始'...                  1  \n",
       "3  ['晋中市', '榆次区', '人民检察院', '指控', '：', '一', '、', '...                  8  \n",
       "4  ['广西壮族自治区', '田东县', '人民检察院', '指控', '，', '2012',...                  3  "
      ]
     },
     "execution_count": 480,
     "metadata": {},
     "output_type": "execute_result"
    }
   ],
   "source": [
    "df.head()"
   ]
  },
  {
   "cell_type": "code",
   "execution_count": 351,
   "metadata": {},
   "outputs": [
    {
     "data": {
      "text/plain": [
       "(150000, 11)"
      ]
     },
     "execution_count": 351,
     "metadata": {},
     "output_type": "execute_result"
    }
   ],
   "source": [
    "df.shape"
   ]
  },
  {
   "cell_type": "markdown",
   "metadata": {},
   "source": [
    "### Exclude cases involving death penalty and life imprisonment"
   ]
  },
  {
   "cell_type": "code",
   "execution_count": 352,
   "metadata": {
    "scrolled": true
   },
   "outputs": [],
   "source": [
    "df = df[df[\"death_penalty\"]==False][df[\"life_imprisonment\"]==False]"
   ]
  },
  {
   "cell_type": "code",
   "execution_count": 353,
   "metadata": {},
   "outputs": [],
   "source": [
    "df = df.drop(columns=[\"death_penalty\", \"life_imprisonment\"])\n",
    "df = df.drop(columns=\"fact_cleaned\")"
   ]
  },
  {
   "cell_type": "markdown",
   "metadata": {},
   "source": [
    "check df again"
   ]
  },
  {
   "cell_type": "code",
   "execution_count": 354,
   "metadata": {},
   "outputs": [
    {
     "data": {
      "text/plain": [
       "(148381, 9)"
      ]
     },
     "execution_count": 354,
     "metadata": {},
     "output_type": "execute_result"
    }
   ],
   "source": [
    "df.shape"
   ]
  },
  {
   "cell_type": "code",
   "execution_count": 355,
   "metadata": {
    "scrolled": true
   },
   "outputs": [
    {
     "data": {
      "text/html": [
       "<div>\n",
       "<style scoped>\n",
       "    .dataframe tbody tr th:only-of-type {\n",
       "        vertical-align: middle;\n",
       "    }\n",
       "\n",
       "    .dataframe tbody tr th {\n",
       "        vertical-align: top;\n",
       "    }\n",
       "\n",
       "    .dataframe thead th {\n",
       "        text-align: right;\n",
       "    }\n",
       "</style>\n",
       "<table border=\"1\" class=\"dataframe\">\n",
       "  <thead>\n",
       "    <tr style=\"text-align: right;\">\n",
       "      <th></th>\n",
       "      <th>accusation</th>\n",
       "      <th>defendants</th>\n",
       "      <th>fact</th>\n",
       "      <th>punish_of_money</th>\n",
       "      <th>relevant_articles</th>\n",
       "      <th>term_of_imprisonment</th>\n",
       "      <th>imprisonment</th>\n",
       "      <th>tokenized</th>\n",
       "      <th>imprisonment_year</th>\n",
       "    </tr>\n",
       "  </thead>\n",
       "  <tbody>\n",
       "    <tr>\n",
       "      <th>0</th>\n",
       "      <td>['受贿']</td>\n",
       "      <td>['杨1某']</td>\n",
       "      <td>安阳县人民检察院指控：2009年至2012年，被告人杨1某利用其在洛阳市中级人民法院工作，先...</td>\n",
       "      <td>0</td>\n",
       "      <td>[383, 388, 383, 386]</td>\n",
       "      <td>{'death_penalty': False, 'imprisonment': 126, ...</td>\n",
       "      <td>126</td>\n",
       "      <td>['安阳县', '人民检察院', '指控', '：', '2009', '年', '至', ...</td>\n",
       "      <td>10</td>\n",
       "    </tr>\n",
       "    <tr>\n",
       "      <th>1</th>\n",
       "      <td>['[组织、强迫、引诱、容留、介绍]卖淫', '[引诱、容留、介绍]卖淫']</td>\n",
       "      <td>['马某某']</td>\n",
       "      <td>大同市新荣区人民检察院指控：从2013年4月起，被告人马某某在新荣区新荣村村委会南自租的平房...</td>\n",
       "      <td>0</td>\n",
       "      <td>[359]</td>\n",
       "      <td>{'death_penalty': False, 'imprisonment': 7, 'l...</td>\n",
       "      <td>7</td>\n",
       "      <td>['大同市', '新荣区', '人民检察院', '指控', '：', '从', '2013'...</td>\n",
       "      <td>1</td>\n",
       "    </tr>\n",
       "    <tr>\n",
       "      <th>2</th>\n",
       "      <td>['非法[持有、私藏][枪支、弹药]', '[走私、贩卖、运输、制造]毒品']</td>\n",
       "      <td>['王某']</td>\n",
       "      <td>公诉机关指控，自2010年开始，被告人王某从“傻波”（在逃，另案处理）处购买甲基苯丙胺（冰毒...</td>\n",
       "      <td>3000</td>\n",
       "      <td>[347]</td>\n",
       "      <td>{'death_penalty': False, 'imprisonment': 10, '...</td>\n",
       "      <td>10</td>\n",
       "      <td>['公诉', '机关', '指控', '，', '自', '2010', '年', '开始'...</td>\n",
       "      <td>1</td>\n",
       "    </tr>\n",
       "    <tr>\n",
       "      <th>3</th>\n",
       "      <td>['[走私、贩卖、运输、制造]毒品', '容留他人吸毒']</td>\n",
       "      <td>['李1某']</td>\n",
       "      <td>晋中市榆次区人民检察院指控：一、2016年2月11日，被告人李1某在晋中东高速口附近贩卖给申...</td>\n",
       "      <td>12000</td>\n",
       "      <td>[347, 347, 354]</td>\n",
       "      <td>{'death_penalty': False, 'imprisonment': 102, ...</td>\n",
       "      <td>102</td>\n",
       "      <td>['晋中市', '榆次区', '人民检察院', '指控', '：', '一', '、', '...</td>\n",
       "      <td>8</td>\n",
       "    </tr>\n",
       "    <tr>\n",
       "      <th>4</th>\n",
       "      <td>['非法经营']</td>\n",
       "      <td>['彭某']</td>\n",
       "      <td>广西壮族自治区田东县人民检察院指控，2012年10月22日，被告人彭某为获利，在明知运输的物...</td>\n",
       "      <td>30000</td>\n",
       "      <td>[225]</td>\n",
       "      <td>{'death_penalty': False, 'imprisonment': 36, '...</td>\n",
       "      <td>36</td>\n",
       "      <td>['广西壮族自治区', '田东县', '人民检察院', '指控', '，', '2012',...</td>\n",
       "      <td>3</td>\n",
       "    </tr>\n",
       "  </tbody>\n",
       "</table>\n",
       "</div>"
      ],
      "text/plain": [
       "                                accusation defendants  \\\n",
       "0                                   ['受贿']    ['杨1某']   \n",
       "1   ['[组织、强迫、引诱、容留、介绍]卖淫', '[引诱、容留、介绍]卖淫']    ['马某某']   \n",
       "2  ['非法[持有、私藏][枪支、弹药]', '[走私、贩卖、运输、制造]毒品']     ['王某']   \n",
       "3            ['[走私、贩卖、运输、制造]毒品', '容留他人吸毒']    ['李1某']   \n",
       "4                                 ['非法经营']     ['彭某']   \n",
       "\n",
       "                                                fact  punish_of_money  \\\n",
       "0  安阳县人民检察院指控：2009年至2012年，被告人杨1某利用其在洛阳市中级人民法院工作，先...                0   \n",
       "1  大同市新荣区人民检察院指控：从2013年4月起，被告人马某某在新荣区新荣村村委会南自租的平房...                0   \n",
       "2  公诉机关指控，自2010年开始，被告人王某从“傻波”（在逃，另案处理）处购买甲基苯丙胺（冰毒...             3000   \n",
       "3  晋中市榆次区人民检察院指控：一、2016年2月11日，被告人李1某在晋中东高速口附近贩卖给申...            12000   \n",
       "4  广西壮族自治区田东县人民检察院指控，2012年10月22日，被告人彭某为获利，在明知运输的物...            30000   \n",
       "\n",
       "      relevant_articles                               term_of_imprisonment  \\\n",
       "0  [383, 388, 383, 386]  {'death_penalty': False, 'imprisonment': 126, ...   \n",
       "1                 [359]  {'death_penalty': False, 'imprisonment': 7, 'l...   \n",
       "2                 [347]  {'death_penalty': False, 'imprisonment': 10, '...   \n",
       "3       [347, 347, 354]  {'death_penalty': False, 'imprisonment': 102, ...   \n",
       "4                 [225]  {'death_penalty': False, 'imprisonment': 36, '...   \n",
       "\n",
       "   imprisonment                                          tokenized  \\\n",
       "0           126  ['安阳县', '人民检察院', '指控', '：', '2009', '年', '至', ...   \n",
       "1             7  ['大同市', '新荣区', '人民检察院', '指控', '：', '从', '2013'...   \n",
       "2            10  ['公诉', '机关', '指控', '，', '自', '2010', '年', '开始'...   \n",
       "3           102  ['晋中市', '榆次区', '人民检察院', '指控', '：', '一', '、', '...   \n",
       "4            36  ['广西壮族自治区', '田东县', '人民检察院', '指控', '，', '2012',...   \n",
       "\n",
       "   imprisonment_year  \n",
       "0                 10  \n",
       "1                  1  \n",
       "2                  1  \n",
       "3                  8  \n",
       "4                  3  "
      ]
     },
     "execution_count": 355,
     "metadata": {},
     "output_type": "execute_result"
    }
   ],
   "source": [
    "df.head()"
   ]
  },
  {
   "cell_type": "markdown",
   "metadata": {},
   "source": [
    "### Summary of df"
   ]
  },
  {
   "cell_type": "code",
   "execution_count": 345,
   "metadata": {
    "scrolled": true
   },
   "outputs": [
    {
     "data": {
      "text/plain": [
       "count    148381.000000\n",
       "mean          2.177496\n",
       "std           2.846578\n",
       "min           0.000000\n",
       "25%           0.000000\n",
       "50%           1.000000\n",
       "75%           3.000000\n",
       "max          25.000000\n",
       "Name: imprisonment_year, dtype: float64"
      ]
     },
     "execution_count": 345,
     "metadata": {},
     "output_type": "execute_result"
    }
   ],
   "source": [
    "df[\"imprisonment_year\"].describe()"
   ]
  },
  {
   "cell_type": "code",
   "execution_count": 356,
   "metadata": {},
   "outputs": [
    {
     "data": {
      "text/plain": [
       "count    1.483810e+05\n",
       "mean     2.515467e+04\n",
       "std      1.487599e+06\n",
       "min      0.000000e+00\n",
       "25%      0.000000e+00\n",
       "50%      0.000000e+00\n",
       "75%      6.000000e+03\n",
       "max      5.500000e+08\n",
       "Name: punish_of_money, dtype: float64"
      ]
     },
     "execution_count": 356,
     "metadata": {},
     "output_type": "execute_result"
    }
   ],
   "source": [
    "df[\"punish_of_money\"].describe()"
   ]
  },
  {
   "cell_type": "code",
   "execution_count": 357,
   "metadata": {
    "scrolled": true
   },
   "outputs": [
    {
     "data": {
      "text/plain": [
       "['[走私、贩卖、运输、制造]毒品']                                                                   4055\n",
       "['抢劫', '盗窃']                                                                          2666\n",
       "['盗窃']                                                                                2208\n",
       "['非法占用农用地']                                                                           1935\n",
       "['[生产、销售]不符合安全标准的食品']                                                                 1875\n",
       "['[生产、销售]假药']                                                                         1874\n",
       "['非法种植毒品原植物']                                                                         1872\n",
       "['重大责任事故']                                                                            1866\n",
       "['失火']                                                                                1864\n",
       "['污染环境']                                                                              1863\n",
       "['非法行医']                                                                              1859\n",
       "['假冒注册商标']                                                                            1851\n",
       "['过失致人死亡']                                                                            1849\n",
       "['销售假冒注册商标的商品']                                                                       1849\n",
       "['拒不执行[判决、裁定]']                                                                       1842\n",
       "['[生产、销售][有毒、有害]食品']                                                                  1842\n",
       "['[组织、强迫、引诱、容留、介绍]卖淫', '[引诱、容留、介绍]卖淫']                                                1837\n",
       "['[虚开增值税专用发票、用于骗取出口退税、抵扣税款发票]']                                                       1828\n",
       "['非法经营']                                                                              1823\n",
       "['[走私、贩卖、运输、制造]毒品', '容留他人吸毒']                                                         1810\n",
       "['滥伐林木']                                                                              1805\n",
       "['盗伐林木']                                                                              1749\n",
       "['拒不支付劳动报酬']                                                                          1722\n",
       "['交通肇事']                                                                              1707\n",
       "['故意伤害']                                                                              1700\n",
       "['非法吸收公众存款']                                                                          1695\n",
       "['诈骗']                                                                                1694\n",
       "['强奸']                                                                                1681\n",
       "['骗取[贷款、票据承兑、金融票证]']                                                                  1605\n",
       "['挪用资金']                                                                              1603\n",
       "                                                                                      ... \n",
       "['合同诈骗', '聚众扰乱社会秩序']                                                                     1\n",
       "['过失投放危险物质', '帮助[毁灭、伪造]证据']                                                              1\n",
       "['合同诈骗', '挪用公款', '受贿']                                                                   1\n",
       "['妨害公务', '赌博']                                                                           1\n",
       "['非法[转让、倒卖]土地使用权', '抢劫', '职务侵占']                                                         1\n",
       "['挪用资金', '寻衅滋事']                                                                         1\n",
       "['故意伤害', '非法拘禁', '绑架']                                                                   1\n",
       "['票据诈骗', '盗窃', '非法持有毒品']                                                                 1\n",
       "['非法[制造、买卖、运输、邮寄、储存][枪支、弹药、爆炸物]', '非法[持有、私藏][枪支、弹药]', '[走私、贩卖、运输、制造]毒品']                 1\n",
       "['盗窃', '诈骗', '赌博']                                                                       1\n",
       "['打击报复证人', '容留他人吸毒']                                                                     1\n",
       "['职务侵占', '受贿', '行贿']                                                                     1\n",
       "['赌博', '非法[收购、运输、出售][珍贵、濒危野生动物、珍贵、濒危野生动物]制品']                                            1\n",
       "['过失致人死亡', '[组织、强迫、引诱、容留、介绍]卖淫', '[引诱、容留、介绍]卖淫']                                         1\n",
       "['妨害公务', '非法捕捞水产品']                                                                      1\n",
       "['交通肇事', '非法持有毒品', '容留他人吸毒']                                                             1\n",
       "['以危险方法危害公共安全', '绑架', '抢劫']                                                              1\n",
       "['故意伤害', '敲诈勒索', '寻衅滋事', '赌博']                                                           1\n",
       "['故意伤害', '寻衅滋事', '非法持有毒品']                                                               1\n",
       "['交通肇事', '非法吸收公众存款']                                                                     1\n",
       "['[组织、强迫、引诱、容留、介绍]卖淫', '组织卖淫', '行贿']                                                     1\n",
       "['爆炸', '非法狩猎']                                                                           1\n",
       "['爆炸', '危险驾驶']                                                                           1\n",
       "['信用卡诈骗', '虚开发票']                                                                        1\n",
       "['非法[制造、买卖、运输、邮寄、储存][枪支、弹药、爆炸物]', '非法[持有、私藏][枪支、弹药]', '[走私、贩卖、运输、制造]毒品', '容留他人吸毒']       1\n",
       "['[虚开增值税专用发票、用于骗取出口退税、抵扣税款发票]', '挪用公款']                                                  1\n",
       "['贪污', '受贿', '对单位行贿']                                                                    1\n",
       "['危险驾驶', '走私国家禁止进出口的[货物、物品]']                                                            1\n",
       "['贪污', '受贿', '私分国有资产', '滥用职权']                                                           1\n",
       "['非法[持有、私藏][枪支、弹药]', '故意伤害', '非法拘禁', '盗窃', '开设赌场']                                       1\n",
       "Name: accusation, Length: 3281, dtype: int64"
      ]
     },
     "execution_count": 357,
     "metadata": {},
     "output_type": "execute_result"
    }
   ],
   "source": [
    "df[\"accusation\"].value_counts()"
   ]
  },
  {
   "cell_type": "code",
   "execution_count": 491,
   "metadata": {
    "scrolled": true
   },
   "outputs": [
    {
     "data": {
      "text/plain": [
       "0         ['安阳县', '人民检察院', '指控', '年', '年', '被告人', '杨', '...\n",
       "1         ['大同市', '新荣区', '人民检察院', '指控', '年', '月', '被告人',...\n",
       "2         ['公诉', '机关', '指控', '年', '被告人', '王某', '傻波', '逃'...\n",
       "3         ['晋中市', '榆次区', '人民检察院', '指控', '年', '月', '日', '...\n",
       "4         ['广西壮族自治区', '田东县', '人民检察院', '指控', '年', '月', '日...\n",
       "5         ['审理', '查明', '×', '×', '犯罪事实', '年', '月', '日', ...\n",
       "6         ['长沙市', '城区', '人民检察院', '指控', '年', '年', '期间', '...\n",
       "7         ['公诉', '机关', '指控', '被告人', '李某', '挂靠', '浙江', '中...\n",
       "8         ['审理', '查明', '年', '月', '日', '时许', '被告人', '李', ...\n",
       "9         ['洮南市', '人民检察院', '指控', '年', '月', '月', '期间', '被...\n",
       "10        ['审理', '查明', '年', '月', '被告人', '王某', '寻求', '刺激'...\n",
       "11        ['鄯善县', '人民检察院', '指控', '年', '月', '祁', '另案处理', ...\n",
       "12        ['公诉', '机关', '指控', '年', '月', '年', '月', '期间', '...\n",
       "13        ['二审', '审理', '查明', '事实', '证据', '原审', '判决', '认定...\n",
       "14        ['审理', '查明', '被告人', '梁某', '年', '被害人', '朱某', '甲...\n",
       "15        ['绥化市', '北林区', '人民检察院', '起诉', '指控', '年', '月', ...\n",
       "16        ['公诉', '机关', '指控', '被告人', '蒋', '某兰', '宝安区', '沙...\n",
       "17        ['公诉', '机关', '指控', '被告人', '周', '年', '月', '日', ...\n",
       "18        ['青岛市', '崂山区', '人民检察院', '指控', '被告人', '王', '年',...\n",
       "19        ['检察机关', '指控', '年', '月', '日', '上午', '时许', '被告人...\n",
       "20        ['当涂县', '人民检察院', '指控', '年', '月', '日', '被告人', '...\n",
       "21        ['平阳县', '人民检察院', '指控', '年', '月', '日', '被告人', '...\n",
       "22        ['公诉', '机关', '指控', '年', '月', '日', '零点', '分许', ...\n",
       "23        ['雷州市', '人民检察院', '指控', '年', '月初', '被告人', '李', ...\n",
       "24        ['揭阳市', '榕城区', '人民检察院', '指控', '年', '月份', '广东',...\n",
       "25        ['审理', '查明', '×', '×', '犯罪事实', '年', '月', '月', ...\n",
       "26        ['嘉鱼县', '人民检察院', '起诉', '指控', '年', '月', '年', '月...\n",
       "27        ['审理', '查明', '本院', '年', '月', '日', '作出', '江', '...\n",
       "28        ['公诉', '机关', '指控', '年', '月', '某日', '下午', '被告人'...\n",
       "29        ['大某', '高新技术', '产业', '开发区', '人民检察院', '指控', '年'...\n",
       "                                ...                        \n",
       "149970    ['黄山市', '黄山区', '人民检察院', '指控', '年底', '年', '月', ...\n",
       "149971    ['辉县市', '人民检察院', '指控', '年', '月', '日', '时许', '被...\n",
       "149972    ['诸暨市', '人民检察院', '指控', '年', '月份', '被告人', '王某',...\n",
       "149973    ['公诉', '机关', '指控', '涉嫌', '顾', '共同', '×', '×', ...\n",
       "149974    ['江苏省', '连云港市', '海州区', '人民检察院', '指控', '年', '月'...\n",
       "149975    ['审理', '查明', '年', '月', '被告人', '谢某', '甲', '承包',...\n",
       "149976    ['无锡市', '新', '吴区', '人民检察院', '指控', '年', '月', '日...\n",
       "149977    ['公诉', '机关', '指控', '年', '月', '年', '月间', '被告人',...\n",
       "149978    ['贺州市', '八步区', '人民检察院', '指控', '年', '月', '日', '...\n",
       "149979    ['长乐市', '人民检察院', '指控', '×', '×', '年', '月', '日'...\n",
       "149980    ['公诉', '机关', '指控', '被告人', '张', '某系', '个体', '药品...\n",
       "149981    ['石家庄市', '长安区', '人民检察院', '指控', '年', '年', '月间',...\n",
       "149982    ['道', '县', '人民检察院', '指控', '年', '月', '日', '左右',...\n",
       "149983    ['审理', '查明', '×', '×', '事实', '年', '月', '日至', '...\n",
       "149984    ['审理', '查明', '年', '月', '一天', '晚上', '被告人', '成',...\n",
       "149985    ['公诉', '机关', '指控', '年', '月', '日', '时许', '被告人',...\n",
       "149986    ['浙江省', '杭州市', '人民检察院', '指控', '被告人', '周某', '浙江...\n",
       "149987    ['安徽省', '芜湖市', '人民检察院', '指控', '被告人', '汪', '某因'...\n",
       "149988    ['审理', '查明', '年', '月', '日', '时许', '犯罪', '嫌疑人',...\n",
       "149989    ['吉林省', '榆树市', '人民检察院', '指控', '年', '月', '日', '...\n",
       "149990    ['公诉', '机关', '指控', '年', '月', '日', '被告人', '蒋', ...\n",
       "149991    ['审理', '查明', '被告人', '高某', '牟取', '非法', '利益', '明...\n",
       "149992    ['长葛市', '人民检察院', '指控', '被告人', '王', '被害人', '梁',...\n",
       "149993    ['公诉', '机关', '指控', '年', '月份', '被告人', '黎某', '利用...\n",
       "149994    ['深圳市', '罗湖区', '人民检察院', '指控', '年', '年底', '被告人'...\n",
       "149995    ['江西省', '鄱阳县', '人民检察院', '指控', '年间', '被告人', '胡'...\n",
       "149996    ['审理', '查明', '年', '月', '日', '时许', '被告人', '持已',...\n",
       "149997    ['公诉', '机关', '指控', '年', '月底', '被告人', '洪某', '石狮...\n",
       "149998    ['浙江省', '慈溪市', '人民检察院', '指控', '年', '月', '日', '...\n",
       "149999    ['珠海市', '斗门区', '人民检察院', '指控', '被告人', '车', '群',...\n",
       "Name: cleaned_fact, Length: 150000, dtype: object"
      ]
     },
     "execution_count": 491,
     "metadata": {},
     "output_type": "execute_result"
    }
   ],
   "source": [
    "df[\"cleaned_fact\"]"
   ]
  },
  {
   "cell_type": "markdown",
   "metadata": {},
   "source": [
    "### Feature Engineering"
   ]
  },
  {
   "cell_type": "markdown",
   "metadata": {},
   "source": [
    "##### Find words that appear most frequently"
   ]
  },
  {
   "cell_type": "markdown",
   "metadata": {},
   "source": [
    "Compare uncleand tokenized words and cleaned tokenized words, notice that cleaned version does make more sense."
   ]
  },
  {
   "cell_type": "code",
   "execution_count": 359,
   "metadata": {},
   "outputs": [],
   "source": [
    "tokenized_high_freq = pd.Series([y for x in df[\"tokenized\"].values.flatten() for y in x.split()]).value_counts()"
   ]
  },
  {
   "cell_type": "code",
   "execution_count": 360,
   "metadata": {
    "scrolled": true
   },
   "outputs": [
    {
     "data": {
      "text/plain": [
       "'物品',       25362\n",
       "'说明',       25335\n",
       "'单位',       25197\n",
       "'材料',       24996\n",
       "'工作',       24899\n",
       "'贷款',       24654\n",
       "'周某',       24517\n",
       "'黄',        24089\n",
       "'吴',        23733\n",
       "'出具',       23627\n",
       "'30',       23615\n",
       "'方式',       23372\n",
       "'信息',       23245\n",
       "'银行',       23172\n",
       "'15',       23154\n",
       "'职务',       22895\n",
       "'工程',       22868\n",
       "'赵某',       22806\n",
       "'吴某',       22760\n",
       "'用',        22719\n",
       "'又',        22440\n",
       "'认定',       22309\n",
       "'发生',       22306\n",
       "'用于',       22136\n",
       "'造成',       21785\n",
       "'检查',       21675\n",
       "'收受',       21638\n",
       "'骗取',       21605\n",
       "'2010',     21422\n",
       "'资金',       21267\n",
       "'一天',       21179\n",
       "'家中',       21171\n",
       "'当庭',       21064\n",
       "'以下',       21039\n",
       "'多次',       20908\n",
       "'当场',       20801\n",
       "'决定书',      20544\n",
       "'合同',       20530\n",
       "'徐某',       20305\n",
       "'附近',       20215\n",
       "'先后',       20075\n",
       "'其中',       19881\n",
       "'投案',       19873\n",
       "'14',       19620\n",
       "'办理',       19490\n",
       "'16',       19374\n",
       "'甲基苯丙胺',    19347\n",
       "'2017',     19335\n",
       "'二',        19027\n",
       "'应',        18997\n",
       "dtype: int64"
      ]
     },
     "execution_count": 360,
     "metadata": {},
     "output_type": "execute_result"
    }
   ],
   "source": [
    "tokenized_high_freq[200:250]"
   ]
  },
  {
   "cell_type": "code",
   "execution_count": 492,
   "metadata": {},
   "outputs": [],
   "source": [
    "cleaned_tokenized_high_freq = pd.Series([y for x in df[\"cleaned_fact\"].values.flatten() for y in x.split()]).value_counts()"
   ]
  },
  {
   "cell_type": "code",
   "execution_count": 493,
   "metadata": {
    "scrolled": true
   },
   "outputs": [
    {
     "data": {
      "text/plain": [
       "'×',          852914\n",
       "'被告人',        728029\n",
       "'年',          478946\n",
       "'月',          413476\n",
       "'日',          270428\n",
       "'元',          259292\n",
       "'指控',         160010\n",
       "'被害人',        144189\n",
       "'人民币',        140795\n",
       "'机关',         132668\n",
       "'证据',         132271\n",
       "'公司',         110345\n",
       "'罪',          109242\n",
       "'供述',         105416\n",
       "'甲',          102402\n",
       "'公诉',         100395\n",
       "'鉴定',          97650\n",
       "'中',           96519\n",
       "'张',           96426\n",
       "'人民检察院',       93817\n",
       "'李某',          84479\n",
       "'行为',          84291\n",
       "'证人',          83949\n",
       "'证言',          83040\n",
       "'规定',          82275\n",
       "'有限公司',        81362\n",
       "'中华人民共和国',     79247\n",
       "'王',           78419\n",
       "'刑法',          74209\n",
       "'证明',          72999\n",
       "               ...  \n",
       "'利牧',              1\n",
       "'从泓发',             1\n",
       "'穷东',              1\n",
       "'某与芦',             1\n",
       "'足法',              1\n",
       "'长着',              1\n",
       "'路五直',             1\n",
       "'某约易',             1\n",
       "'震地',              1\n",
       "'故武',              1\n",
       "'超别',              1\n",
       "'高帮鞋',             1\n",
       "'榔树',              1\n",
       "'痒',               1\n",
       "'开帮后',             1\n",
       "'冼要',              1\n",
       "'某甲和明',            1\n",
       "'长担',              1\n",
       "'蓝某']              1\n",
       "'曹家组',             1\n",
       "'奥显',              1\n",
       "'咸池',              1\n",
       "'裕海村',             1\n",
       "'云发刑',             1\n",
       "'矮垭',              1\n",
       "'凯加',              1\n",
       "'牌鸡粉',             1\n",
       "'冰桶',              1\n",
       "'某兰受',             1\n",
       "'灿坚',              1\n",
       "Length: 290142, dtype: int64"
      ]
     },
     "execution_count": 493,
     "metadata": {},
     "output_type": "execute_result"
    }
   ],
   "source": [
    "cleaned_tokenized_high_freq"
   ]
  },
  {
   "cell_type": "markdown",
   "metadata": {},
   "source": [
    "**Visualization - how to choose word as feature**"
   ]
  },
  {
   "cell_type": "markdown",
   "metadata": {},
   "source": [
    "**Function for word choice visualization**"
   ]
  },
  {
   "cell_type": "code",
   "execution_count": 361,
   "metadata": {},
   "outputs": [],
   "source": [
    "def words_in_texts(words, texts):\n",
    "    '''\n",
    "    Args:\n",
    "        words (list-like): words to find\n",
    "        texts (Series): strings to search in\n",
    "    \n",
    "    Returns:\n",
    "        NumPy array of 0s and 1s with shape (n, p) where n is the\n",
    "        number of texts and p is the number of words.\n",
    "    '''\n",
    "    indicator_array = []\n",
    "    for text in texts:\n",
    "        temp = []\n",
    "        for word in words:\n",
    "            if word in text:\n",
    "                temp.append(1)\n",
    "            else:\n",
    "                temp.append(0)\n",
    "        indicator_array.append(temp)\n",
    "    return indicator_array"
   ]
  },
  {
   "cell_type": "code",
   "execution_count": 319,
   "metadata": {
    "scrolled": false
   },
   "outputs": [
    {
     "data": {
      "text/plain": [
       "<matplotlib.axes._subplots.AxesSubplot at 0x1ab3c10a58>"
      ]
     },
     "execution_count": 319,
     "metadata": {},
     "output_type": "execute_result"
    },
    {
     "data": {
      "image/png": "[encoded data removed]",
      "text/plain": [
       "<Figure size 432x288 with 1 Axes>"
      ]
     },
     "metadata": {
      "needs_background": "light"
     },
     "output_type": "display_data"
    }
   ],
   "source": [
    "train=train.reset_index(drop=True) # We must do this in order to preserve the ordering of emails to labels for words_in_texts\n",
    "indicator_words = ['玩忽职守', '[制造、贩卖、传播]淫秽物品', '受贿','[走私、贩卖、运输、制造]毒品', '容留他人吸毒', '非法种植毒品原植物', '寻衅滋事']\n",
    "graph_temp = pd.DataFrame(words_in_texts(indicator_words, train['accusation']), columns=indicator_words)\n",
    "graph_temp['life_imprisonment'] = train['life_imprisonment']\n",
    "sns.barplot(x=\"variable\", y=\"value\", data=graph_temp.melt('life_imprisonment'), hue=\"life_imprisonment\", ci=None)"
   ]
  },
  {
   "cell_type": "markdown",
   "metadata": {},
   "source": [
    "Final version of indicator words"
   ]
  },
  {
   "cell_type": "code",
   "execution_count": 1,
   "metadata": {},
   "outputs": [],
   "source": [
    "indicator_words = [\"刑事责任\", \"非法\", \"扣押\", \"销售\", \"追究其\", '犯罪事实', '足以认定', '毒品', '户籍', '利用', '触犯', '开庭审理','公诉', '辩解','经营',  '信息', '银行', '工程', '骗取', '职务']"
   ]
  },
  {
   "cell_type": "markdown",
   "metadata": {},
   "source": [
    "### train test split"
   ]
  },
  {
   "cell_type": "code",
   "execution_count": null,
   "metadata": {},
   "outputs": [],
   "source": [
    "train, test = train_test_split(df, test_size=0.2, random_state=42)\n",
    "Y_train = train['imprisonment_year']\n",
    "Y_test = test['imprisonment_year']"
   ]
  },
  {
   "cell_type": "markdown",
   "metadata": {},
   "source": [
    "**Function for generating feature matrix**"
   ]
  },
  {
   "cell_type": "code",
   "execution_count": null,
   "metadata": {},
   "outputs": [],
   "source": [
    "def feature_gen(words, data, column):\n",
    "    # return feature matrix \n",
    "    temp = words_in_texts(words, data[column])\n",
    "    features_matrix = pd.DataFrame(temp, columns=words)  \n",
    "    return features_matrix"
   ]
  },
  {
   "cell_type": "markdown",
   "metadata": {},
   "source": [
    "### Baseline model: all predict the mean "
   ]
  },
  {
   "cell_type": "code",
   "execution_count": 369,
   "metadata": {},
   "outputs": [
    {
     "name": "stdout",
     "output_type": "stream",
     "text": [
      "Training RMSE:  2.8394035525564587\n"
     ]
    }
   ],
   "source": [
    "Y_train_predict = np.full((len(train),), train[\"imprisonment_year\"].mean())\n",
    "\n",
    "training_mse = mean_squared_error(Y_train_predict, Y_train)\n",
    "training_rmse = np.sqrt(training_mse)\n",
    "print(\"Training RMSE: \", training_rmse)"
   ]
  },
  {
   "cell_type": "code",
   "execution_count": 370,
   "metadata": {},
   "outputs": [
    {
     "name": "stdout",
     "output_type": "stream",
     "text": [
      "test RMSE:  2.8750484099650415\n"
     ]
    }
   ],
   "source": [
    "Y_test_predict = np.full((len(test),), test[\"imprisonment_year\"].mean())\n",
    "\n",
    "test_mse = mean_squared_error(Y_test_predict, Y_test)\n",
    "test_rmse = np.sqrt(test_mse)\n",
    "print(\"test RMSE: \", test_rmse)"
   ]
  },
  {
   "cell_type": "code",
   "execution_count": 371,
   "metadata": {},
   "outputs": [
    {
     "data": {
      "text/plain": [
       "Text(0.5, 1.0, 'Baseline Model - imprisonment_year predict vs actual')"
      ]
     },
     "execution_count": 371,
     "metadata": {},
     "output_type": "execute_result"
    },
    {
     "data": {
      "image/png": "[encoded data removed]",
      "text/plain": [
       "<Figure size 432x288 with 1 Axes>"
      ]
     },
     "metadata": {
      "needs_background": "light"
     },
     "output_type": "display_data"
    }
   ],
   "source": [
    "sns.regplot(Y_test, Y_test_predict)\n",
    "plt.xlabel(\"actual\")\n",
    "plt.ylabel(\"predict\")\n",
    "plt.title(\"Baseline Model - imprisonment_year predict vs actual\")"
   ]
  },
  {
   "cell_type": "markdown",
   "metadata": {},
   "source": [
    "## Modeling"
   ]
  },
  {
   "cell_type": "markdown",
   "metadata": {},
   "source": [
    "### Trained on indicator words"
   ]
  },
  {
   "cell_type": "code",
   "execution_count": 372,
   "metadata": {},
   "outputs": [],
   "source": [
    "indicator_words = [\"刑事责任\", \"非法\", \"扣押\", \"销售\", \"追究其\", '犯罪事实', '足以认定', '毒品', '户籍', '利用', '触犯', '开庭审理','公诉', '辩解','经营',  '信息', '银行', '工程', '骗取', '职务']"
   ]
  },
  {
   "cell_type": "markdown",
   "metadata": {},
   "source": [
    "Generate train feature matrix"
   ]
  },
  {
   "cell_type": "code",
   "execution_count": 373,
   "metadata": {},
   "outputs": [],
   "source": [
    "features_words_train = feature_gen(indicator_words, train, \"tokenized\")"
   ]
  },
  {
   "cell_type": "code",
   "execution_count": 374,
   "metadata": {},
   "outputs": [
    {
     "data": {
      "text/plain": [
       "(118704, 20)"
      ]
     },
     "execution_count": 374,
     "metadata": {},
     "output_type": "execute_result"
    }
   ],
   "source": [
    "features_words_train.shape"
   ]
  },
  {
   "cell_type": "markdown",
   "metadata": {},
   "source": [
    "Generate test feature matrix "
   ]
  },
  {
   "cell_type": "code",
   "execution_count": 375,
   "metadata": {},
   "outputs": [],
   "source": [
    "features_words_test = feature_gen(indicator_words, test, \"tokenized\")"
   ]
  },
  {
   "cell_type": "code",
   "execution_count": 376,
   "metadata": {},
   "outputs": [
    {
     "data": {
      "text/plain": [
       "(29677, 20)"
      ]
     },
     "execution_count": 376,
     "metadata": {},
     "output_type": "execute_result"
    }
   ],
   "source": [
    "features_words_test.shape"
   ]
  },
  {
   "cell_type": "markdown",
   "metadata": {},
   "source": [
    "**Train accuracy**"
   ]
  },
  {
   "cell_type": "code",
   "execution_count": 377,
   "metadata": {},
   "outputs": [
    {
     "name": "stdout",
     "output_type": "stream",
     "text": [
      "Training RMSE:  2.7237550965901605\n"
     ]
    }
   ],
   "source": [
    "from sklearn.linear_model import LinearRegression\n",
    "from sklearn.metrics import mean_squared_error\n",
    "\n",
    "model = LinearRegression()\n",
    "train=train.reset_index(drop=True)\n",
    "Y_train = train[\"imprisonment_year\"]\n",
    "model.fit(features_words_train, Y_train)\n",
    "Y_train_predict = model.predict(features_words_train)\n",
    "\n",
    "training_mse = mean_squared_error(Y_train_predict, Y_train)\n",
    "training_rmse = np.sqrt(training_mse)\n",
    "print(\"Training RMSE: \", training_rmse)"
   ]
  },
  {
   "cell_type": "markdown",
   "metadata": {},
   "source": [
    "**Test accuracy**"
   ]
  },
  {
   "cell_type": "code",
   "execution_count": 378,
   "metadata": {},
   "outputs": [
    {
     "name": "stdout",
     "output_type": "stream",
     "text": [
      "test RMSE:  2.765686560209878\n"
     ]
    }
   ],
   "source": [
    "test = test.reset_index(drop=True)\n",
    "Y_test = test[\"imprisonment_year\"]\n",
    "Y_test_predict = model.predict(features_words_test)\n",
    "\n",
    "test_mse = mean_squared_error(Y_test_predict, Y_test)\n",
    "test_rmse = np.sqrt(test_mse)\n",
    "print(\"test RMSE: \", test_rmse)"
   ]
  },
  {
   "cell_type": "markdown",
   "metadata": {},
   "source": [
    "### Trained on accusations"
   ]
  },
  {
   "cell_type": "markdown",
   "metadata": {},
   "source": [
    "**Find non-repetitive accusations**"
   ]
  },
  {
   "cell_type": "code",
   "execution_count": 379,
   "metadata": {},
   "outputs": [],
   "source": [
    "accusations = train[\"accusation\"].apply(lambda x: eval(x)).tolist()\n",
    "accusations = [item for sublist in accusations for item in sublist]"
   ]
  },
  {
   "cell_type": "markdown",
   "metadata": {},
   "source": [
    "Total number of accusations appeared: 147513"
   ]
  },
  {
   "cell_type": "code",
   "execution_count": 428,
   "metadata": {},
   "outputs": [
    {
     "data": {
      "text/plain": [
       "147513"
      ]
     },
     "execution_count": 428,
     "metadata": {},
     "output_type": "execute_result"
    }
   ],
   "source": [
    "len(accusations)"
   ]
  },
  {
   "cell_type": "code",
   "execution_count": 425,
   "metadata": {
    "scrolled": true
   },
   "outputs": [
    {
     "data": {
      "text/plain": [
       "[('盗窃', 7696),\n",
       " ('[走私、贩卖、运输、制造]毒品', 6734),\n",
       " ('故意伤害', 4837),\n",
       " ('抢劫', 3814),\n",
       " ('诈骗', 2709),\n",
       " ('受贿', 2691),\n",
       " ('寻衅滋事', 2583),\n",
       " ('危险驾驶', 2089),\n",
       " ('[制造、贩卖、传播]淫秽物品', 2018),\n",
       " ('交通肇事', 2007),\n",
       " ('容留他人吸毒', 1997),\n",
       " ('[组织、强迫、引诱、容留、介绍]卖淫', 1994),\n",
       " ('贪污', 1874),\n",
       " ('非法[持有、私藏][枪支、弹药]', 1793),\n",
       " ('开设赌场', 1782),\n",
       " ('职务侵占', 1690),\n",
       " ('[伪造、变造、买卖]国家机关[公文、证件、印章]', 1682),\n",
       " ('强奸', 1674),\n",
       " ('非法持有毒品', 1672),\n",
       " ('信用卡诈骗', 1662),\n",
       " ('敲诈勒索', 1658),\n",
       " ('[掩饰、隐瞒][犯罪所得、犯罪所得收益]', 1658),\n",
       " ('抢夺', 1654),\n",
       " ('妨害公务', 1614),\n",
       " ('赌博', 1612),\n",
       " ('非法吸收公众存款', 1612),\n",
       " ('非法占用农用地', 1611),\n",
       " ('非法经营', 1608),\n",
       " ('故意毁坏财物', 1608),\n",
       " ('非法拘禁', 1605),\n",
       " ('合同诈骗', 1603),\n",
       " ('[窝藏、包庇]', 1590),\n",
       " ('挪用资金', 1588),\n",
       " ('滥伐林木', 1580),\n",
       " ('行贿', 1573),\n",
       " ('挪用公款', 1556),\n",
       " ('过失致人死亡', 1556),\n",
       " ('拒不执行[判决、裁定]', 1552),\n",
       " ('假冒注册商标', 1550),\n",
       " ('[虚开增值税专用发票、用于骗取出口退税、抵扣税款发票]', 1549),\n",
       " ('盗伐林木', 1534),\n",
       " ('[生产、销售]假药', 1529),\n",
       " ('放火', 1528),\n",
       " ('污染环境', 1521),\n",
       " ('[生产、销售]不符合安全标准的食品', 1519),\n",
       " ('[引诱、容留、介绍]卖淫', 1512),\n",
       " ('伪造[公司、企业、事业单位、人民团体]印章', 1508),\n",
       " ('重大责任事故', 1506),\n",
       " ('[制作、复制、出版、贩卖、传播]淫秽物品牟利', 1503),\n",
       " ('失火', 1501)]"
      ]
     },
     "execution_count": 425,
     "metadata": {},
     "output_type": "execute_result"
    }
   ],
   "source": [
    "from collections import Counter\n",
    "# check 50 most frequent accusations\n",
    "Counter(accusations).most_common(50)"
   ]
  },
  {
   "cell_type": "markdown",
   "metadata": {},
   "source": [
    "Get a list of non-rep accusations"
   ]
  },
  {
   "cell_type": "code",
   "execution_count": 382,
   "metadata": {},
   "outputs": [],
   "source": [
    "non_rep = []\n",
    "for a in accusations:\n",
    "    if a not in non_rep:\n",
    "        non_rep.append(a)"
   ]
  },
  {
   "cell_type": "markdown",
   "metadata": {},
   "source": [
    "Total number of accusations if each type counted once: 202"
   ]
  },
  {
   "cell_type": "code",
   "execution_count": 383,
   "metadata": {
    "scrolled": false
   },
   "outputs": [
    {
     "data": {
      "text/plain": [
       "202"
      ]
     },
     "execution_count": 383,
     "metadata": {},
     "output_type": "execute_result"
    }
   ],
   "source": [
    "len(non_rep)"
   ]
  },
  {
   "cell_type": "markdown",
   "metadata": {},
   "source": [
    "Generate train matrix"
   ]
  },
  {
   "cell_type": "code",
   "execution_count": 384,
   "metadata": {
    "scrolled": true
   },
   "outputs": [],
   "source": [
    "accusation_features = feature_gen(non_rep, train, \"accusation\")"
   ]
  },
  {
   "cell_type": "code",
   "execution_count": 385,
   "metadata": {},
   "outputs": [
    {
     "data": {
      "text/plain": [
       "(118704, 202)"
      ]
     },
     "execution_count": 385,
     "metadata": {},
     "output_type": "execute_result"
    }
   ],
   "source": [
    "accusation_features.shape"
   ]
  },
  {
   "cell_type": "markdown",
   "metadata": {},
   "source": [
    "Generate test matrix"
   ]
  },
  {
   "cell_type": "code",
   "execution_count": 386,
   "metadata": {},
   "outputs": [],
   "source": [
    "accusation_features_test = feature_gen(non_rep, test, \"accusation\")"
   ]
  },
  {
   "cell_type": "code",
   "execution_count": 387,
   "metadata": {},
   "outputs": [
    {
     "data": {
      "text/plain": [
       "(29677, 202)"
      ]
     },
     "execution_count": 387,
     "metadata": {},
     "output_type": "execute_result"
    }
   ],
   "source": [
    "accusation_features_test.shape"
   ]
  },
  {
   "cell_type": "markdown",
   "metadata": {},
   "source": [
    "**Training Accuracy**"
   ]
  },
  {
   "cell_type": "code",
   "execution_count": 388,
   "metadata": {
    "scrolled": true
   },
   "outputs": [
    {
     "name": "stdout",
     "output_type": "stream",
     "text": [
      "Training RMSE:  2.2019326424855046\n"
     ]
    }
   ],
   "source": [
    "from sklearn.linear_model import LinearRegression\n",
    "from sklearn.metrics import mean_squared_error\n",
    "\n",
    "model = LinearRegression()\n",
    "train=train.reset_index(drop=True)\n",
    "Y_train = train[\"imprisonment_year\"]\n",
    "model.fit(accusation_features, Y_train)\n",
    "Y_train_predict = model.predict(accusation_features)\n",
    "\n",
    "training_mse = mean_squared_error(Y_train_predict, Y_train)\n",
    "training_rmse = np.sqrt(training_mse)\n",
    "print(\"Training RMSE: \", training_rmse)"
   ]
  },
  {
   "cell_type": "markdown",
   "metadata": {},
   "source": [
    "**Test Accuracy**"
   ]
  },
  {
   "cell_type": "code",
   "execution_count": 389,
   "metadata": {},
   "outputs": [
    {
     "name": "stdout",
     "output_type": "stream",
     "text": [
      "test RMSE:  2.2269617261359373\n"
     ]
    }
   ],
   "source": [
    "test = test.reset_index(drop=True)\n",
    "Y_test = test[\"imprisonment_year\"]\n",
    "Y_test_predict = model.predict(accusation_features_test)\n",
    "\n",
    "test_mse = mean_squared_error(Y_test_predict, Y_test)\n",
    "test_rmse = np.sqrt(test_mse)\n",
    "print(\"test RMSE: \", test_rmse)"
   ]
  },
  {
   "cell_type": "markdown",
   "metadata": {},
   "source": [
    "## Trained on both accusations and indicator_words"
   ]
  },
  {
   "cell_type": "markdown",
   "metadata": {},
   "source": [
    "Generate train matrix by merging accusation feature matrix and indicator_words feature matrix"
   ]
  },
  {
   "cell_type": "code",
   "execution_count": 390,
   "metadata": {},
   "outputs": [],
   "source": [
    "features_combined = pd.concat([accusation_features, features_words_train], axis=1)"
   ]
  },
  {
   "cell_type": "code",
   "execution_count": 391,
   "metadata": {
    "scrolled": true
   },
   "outputs": [
    {
     "data": {
      "text/plain": [
       "(118704, 222)"
      ]
     },
     "execution_count": 391,
     "metadata": {},
     "output_type": "execute_result"
    }
   ],
   "source": [
    "features_combined.shape"
   ]
  },
  {
   "cell_type": "markdown",
   "metadata": {},
   "source": [
    "Generate trest matrix by merging accusation feature matrix and indicator_words feature matrix"
   ]
  },
  {
   "cell_type": "code",
   "execution_count": 392,
   "metadata": {},
   "outputs": [],
   "source": [
    "features_combined_test = pd.concat([accusation_features_test, features_words_test], axis=1)"
   ]
  },
  {
   "cell_type": "code",
   "execution_count": 393,
   "metadata": {},
   "outputs": [
    {
     "data": {
      "text/plain": [
       "(29677, 222)"
      ]
     },
     "execution_count": 393,
     "metadata": {},
     "output_type": "execute_result"
    }
   ],
   "source": [
    "features_combined_test.shape"
   ]
  },
  {
   "cell_type": "markdown",
   "metadata": {},
   "source": [
    "**Train accuracy**"
   ]
  },
  {
   "cell_type": "code",
   "execution_count": 394,
   "metadata": {
    "scrolled": false
   },
   "outputs": [
    {
     "name": "stdout",
     "output_type": "stream",
     "text": [
      "Training RMSE:  2.1837983804533203\n"
     ]
    }
   ],
   "source": [
    "model = LinearRegression(normalize=True)\n",
    "train=train.reset_index(drop=True)\n",
    "Y_train = train[\"imprisonment_year\"]\n",
    "model.fit(features_combined, Y_train)\n",
    "Y_train_predict = model.predict(features_combined)\n",
    "\n",
    "training_mse = mean_squared_error(Y_train_predict, Y_train)\n",
    "training_rmse = np.sqrt(training_mse)\n",
    "print(\"Training RMSE: \", training_rmse)"
   ]
  },
  {
   "cell_type": "markdown",
   "metadata": {},
   "source": [
    "**Test accuracy**"
   ]
  },
  {
   "cell_type": "code",
   "execution_count": 395,
   "metadata": {
    "scrolled": true
   },
   "outputs": [
    {
     "name": "stdout",
     "output_type": "stream",
     "text": [
      "test RMSE:  2.2269617261359373\n"
     ]
    }
   ],
   "source": [
    "test = test.reset_index(drop=True)\n",
    "Y_test = test[\"imprisonment_year\"]\n",
    "Y_test_predict = model.predict(features_combined_test)\n",
    "\n",
    "test_rmse = np.sqrt(test_mse)\n",
    "print(\"test RMSE: \", test_rmse)"
   ]
  },
  {
   "cell_type": "markdown",
   "metadata": {},
   "source": [
    "### Visualization for prediction"
   ]
  },
  {
   "cell_type": "code",
   "execution_count": 396,
   "metadata": {
    "scrolled": false
   },
   "outputs": [
    {
     "data": {
      "text/plain": [
       "Text(0.5, 1.0, 'imprisonment_year predict vs actual')"
      ]
     },
     "execution_count": 396,
     "metadata": {},
     "output_type": "execute_result"
    },
    {
     "data": {
      "image/png": "[encoded data removed]",
      "text/plain": [
       "<Figure size 432x288 with 1 Axes>"
      ]
     },
     "metadata": {
      "needs_background": "light"
     },
     "output_type": "display_data"
    }
   ],
   "source": [
    "sns.regplot(Y_test, Y_test_predict,x_estimator=np.mean)\n",
    "plt.xlabel(\"actual\")\n",
    "plt.ylabel(\"predict\")\n",
    "plt.title(\"imprisonment_year predict vs actual\")"
   ]
  },
  {
   "cell_type": "markdown",
   "metadata": {},
   "source": [
    "### Add feature - relevant article"
   ]
  },
  {
   "cell_type": "code",
   "execution_count": null,
   "metadata": {},
   "outputs": [],
   "source": [
    "relevant_articles = train[\"relevant_articles\"].to_list()"
   ]
  },
  {
   "cell_type": "code",
   "execution_count": 398,
   "metadata": {},
   "outputs": [
    {
     "data": {
      "text/plain": [
       "172752"
      ]
     },
     "execution_count": 398,
     "metadata": {},
     "output_type": "execute_result"
    }
   ],
   "source": [
    "len(relevant_articles)"
   ]
  },
  {
   "cell_type": "markdown",
   "metadata": {},
   "source": [
    "Find non-rep relevant articles "
   ]
  },
  {
   "cell_type": "code",
   "execution_count": 450,
   "metadata": {},
   "outputs": [],
   "source": [
    "non_rep_articles = []\n",
    "for a in relevant_articles:\n",
    "    if a not in non_rep_articles:\n",
    "        non_rep_articles.append(int(a))"
   ]
  },
  {
   "cell_type": "code",
   "execution_count": 400,
   "metadata": {},
   "outputs": [
    {
     "data": {
      "text/plain": [
       "183"
      ]
     },
     "execution_count": 400,
     "metadata": {},
     "output_type": "execute_result"
    }
   ],
   "source": [
    "len(non_rep_articles)"
   ]
  },
  {
   "cell_type": "markdown",
   "metadata": {},
   "source": [
    "Find 50 most frequent articles"
   ]
  },
  {
   "cell_type": "code",
   "execution_count": 462,
   "metadata": {},
   "outputs": [],
   "source": [
    "freq_50_articles = [int(key) for key, _ in Counter(relevant_articles).most_common(50)]"
   ]
  },
  {
   "cell_type": "markdown",
   "metadata": {},
   "source": [
    "Generate train feature matrix for freq_50_articles"
   ]
  },
  {
   "cell_type": "code",
   "execution_count": 463,
   "metadata": {},
   "outputs": [],
   "source": [
    "articles_features_50 = feature_gen(freq_50_articles, train, \"relevant_articles\")"
   ]
  },
  {
   "cell_type": "code",
   "execution_count": 464,
   "metadata": {
    "scrolled": false
   },
   "outputs": [
    {
     "data": {
      "text/plain": [
       "(118704, 50)"
      ]
     },
     "execution_count": 464,
     "metadata": {},
     "output_type": "execute_result"
    }
   ],
   "source": [
    "articles_features_50.shape"
   ]
  },
  {
   "cell_type": "markdown",
   "metadata": {},
   "source": [
    "Generate test feature matrix for freq_50_articles"
   ]
  },
  {
   "cell_type": "code",
   "execution_count": 465,
   "metadata": {},
   "outputs": [],
   "source": [
    "articles_features_test = feature_gen(freq_50_articles, test, \"relevant_articles\")"
   ]
  },
  {
   "cell_type": "code",
   "execution_count": 466,
   "metadata": {
    "scrolled": true
   },
   "outputs": [
    {
     "data": {
      "text/plain": [
       "(29677, 50)"
      ]
     },
     "execution_count": 466,
     "metadata": {},
     "output_type": "execute_result"
    }
   ],
   "source": [
    "articles_features_test.shape"
   ]
  },
  {
   "cell_type": "markdown",
   "metadata": {},
   "source": [
    "Combine train feature matrixs for indicator words, accusations, relevant articles"
   ]
  },
  {
   "cell_type": "code",
   "execution_count": 467,
   "metadata": {},
   "outputs": [],
   "source": [
    "features_combined_a = pd.concat([articles_features_50, features_combined], axis =1)"
   ]
  },
  {
   "cell_type": "code",
   "execution_count": 459,
   "metadata": {
    "scrolled": true
   },
   "outputs": [
    {
     "data": {
      "text/plain": [
       "(118704, 272)"
      ]
     },
     "execution_count": 459,
     "metadata": {},
     "output_type": "execute_result"
    }
   ],
   "source": [
    "features_combined_a.shape"
   ]
  },
  {
   "cell_type": "markdown",
   "metadata": {},
   "source": [
    "Combine test feature matrixs for indicator words, accusations, relevant articles"
   ]
  },
  {
   "cell_type": "code",
   "execution_count": 468,
   "metadata": {},
   "outputs": [],
   "source": [
    "features_combined_a_test = pd.concat([articles_features_test, features_combined_test], axis =1)"
   ]
  },
  {
   "cell_type": "code",
   "execution_count": 469,
   "metadata": {},
   "outputs": [
    {
     "data": {
      "text/plain": [
       "(29677, 272)"
      ]
     },
     "execution_count": 469,
     "metadata": {},
     "output_type": "execute_result"
    }
   ],
   "source": [
    "features_combined_a_test.shape"
   ]
  },
  {
   "cell_type": "markdown",
   "metadata": {},
   "source": [
    "### Train accuracy"
   ]
  },
  {
   "cell_type": "code",
   "execution_count": 470,
   "metadata": {},
   "outputs": [
    {
     "name": "stdout",
     "output_type": "stream",
     "text": [
      "Training RMSE:  2.1372150803513223\n"
     ]
    }
   ],
   "source": [
    "model = LinearRegression()\n",
    "Y_train = train[\"imprisonment_year\"]\n",
    "model.fit(features_combined_a, Y_train)\n",
    "Y_train_predict = model.predict(features_combined_a)\n",
    "\n",
    "training_mse = mean_squared_error(Y_train_predict, Y_train)\n",
    "training_rmse = np.sqrt(training_mse)\n",
    "print(\"Training RMSE: \", training_rmse)"
   ]
  },
  {
   "cell_type": "markdown",
   "metadata": {},
   "source": [
    "## Test accuracy"
   ]
  },
  {
   "cell_type": "code",
   "execution_count": 471,
   "metadata": {
    "scrolled": true
   },
   "outputs": [
    {
     "name": "stdout",
     "output_type": "stream",
     "text": [
      "test RMSE:  2.1787758284722063\n"
     ]
    }
   ],
   "source": [
    "Y_test = test[\"imprisonment_year\"]\n",
    "Y_test_predict = model.predict(features_combined_a_test)\n",
    "\n",
    "test_mse = mean_squared_error(Y_test_predict, Y_test)\n",
    "test_rmse = np.sqrt(test_mse)\n",
    "print(\"test RMSE: \", test_rmse)"
   ]
  },
  {
   "cell_type": "markdown",
   "metadata": {},
   "source": [
    "Prediction Visualizatin"
   ]
  },
  {
   "cell_type": "code",
   "execution_count": 472,
   "metadata": {},
   "outputs": [
    {
     "data": {
      "text/plain": [
       "Text(0.5, 1.0, 'imprisonment_year predict vs actual')"
      ]
     },
     "execution_count": 472,
     "metadata": {},
     "output_type": "execute_result"
    },
    {
     "data": {
      "image/png": "[encoded data removed]",
      "text/plain": [
       "<Figure size 432x288 with 1 Axes>"
      ]
     },
     "metadata": {
      "needs_background": "light"
     },
     "output_type": "display_data"
    }
   ],
   "source": [
    "sns.regplot(Y_test, Y_test_predict,x_estimator=np.mean)\n",
    "plt.xlabel(\"actual\")\n",
    "plt.ylabel(\"predict\")\n",
    "plt.title(\"imprisonment_year predict vs actual\")"
   ]
  }
 ],
 "metadata": {
  "kernelspec": {
   "display_name": "Python 3",
   "language": "python",
   "name": "python3"
  },
  "language_info": {
   "codemirror_mode": {
    "name": "ipython",
    "version": 3
   },
   "file_extension": ".py",
   "mimetype": "text/x-python",
   "name": "python",
   "nbconvert_exporter": "python",
   "pygments_lexer": "ipython3",
   "version": "3.7.1"
  }
 },
 "nbformat": 4,
 "nbformat_minor": 2
}
